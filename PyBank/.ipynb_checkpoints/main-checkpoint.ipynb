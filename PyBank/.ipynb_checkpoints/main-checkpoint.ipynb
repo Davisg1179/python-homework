{
 "cells": [
  {
   "cell_type": "code",
   "execution_count": 98,
   "id": "441795b6-43c5-4aa0-8cbf-af1be86e16d0",
   "metadata": {},
   "outputs": [],
   "source": [
    "#Import Path and csv\n",
    "\n",
    "from pathlib import Path\n",
    "import csv"
   ]
  },
  {
   "cell_type": "code",
   "execution_count": 99,
   "id": "9ed9ccb5-2107-41e3-8c4c-23bbeebd742a",
   "metadata": {},
   "outputs": [],
   "source": [
    "csvpath = Path('budget_data.csv')"
   ]
  },
  {
   "cell_type": "code",
   "execution_count": 112,
   "id": "90212d49-a167-405d-b6cd-e70b9ac5a0ce",
   "metadata": {},
   "outputs": [
    {
     "name": "stdout",
     "output_type": "stream",
     "text": [
      "<class '_io.TextIOWrapper'>\n",
      "<class '_csv.reader'>\n",
      "['Jan-2010', '867884']\n",
      "['Feb-2010', '984655']\n",
      "['Mar-2010', '322013']\n",
      "['Apr-2010', '-69417']\n",
      "['May-2010', '310503']\n",
      "['Jun-2010', '522857']\n",
      "['Jul-2010', '1033096']\n",
      "['Aug-2010', '604885']\n",
      "['Sep-2010', '-216386']\n",
      "['Oct-2010', '477532']\n",
      "['Nov-2010', '893810']\n",
      "['Dec-2010', '-80353']\n",
      "['Jan-2011', '779806']\n",
      "['Feb-2011', '-335203']\n",
      "['Mar-2011', '697845']\n",
      "['Apr-2011', '793163']\n",
      "['May-2011', '485070']\n",
      "['Jun-2011', '584122']\n",
      "['Jul-2011', '62729']\n",
      "['Aug-2011', '668179']\n",
      "['Sep-2011', '899906']\n",
      "['Oct-2011', '834719']\n",
      "['Nov-2011', '132003']\n",
      "['Dec-2011', '309978']\n",
      "['Jan-2012', '-755566']\n",
      "['Feb-2012', '1170593']\n",
      "['Mar-2012', '252788']\n",
      "['Apr-2012', '1151518']\n",
      "['May-2012', '817256']\n",
      "['Jun-2012', '570757']\n",
      "['Jul-2012', '506702']\n",
      "['Aug-2012', '-1022534']\n",
      "['Sep-2012', '475062']\n",
      "['Oct-2012', '779976']\n",
      "['Nov-2012', '144175']\n",
      "['Dec-2012', '542494']\n",
      "['Jan-2013', '359333']\n",
      "['Feb-2013', '321469']\n",
      "['Mar-2013', '67780']\n",
      "['Apr-2013', '471435']\n",
      "['May-2013', '565603']\n",
      "['Jun-2013', '872480']\n",
      "['Jul-2013', '789480']\n",
      "['Aug-2013', '999942']\n",
      "['Sep-2013', '-1196225']\n",
      "['Oct-2013', '268997']\n",
      "['Nov-2013', '-687986']\n",
      "['Dec-2013', '1150461']\n",
      "['Jan-2014', '682458']\n",
      "['Feb-2014', '617856']\n",
      "['Mar-2014', '824098']\n",
      "['Apr-2014', '581943']\n",
      "['May-2014', '132864']\n",
      "['Jun-2014', '448062']\n",
      "['Jul-2014', '689161']\n",
      "['Aug-2014', '800701']\n",
      "['Sep-2014', '1166643']\n",
      "['Oct-2014', '947333']\n",
      "['Nov-2014', '578668']\n",
      "['Dec-2014', '988505']\n",
      "['Jan-2015', '1139715']\n",
      "['Feb-2015', '1029471']\n",
      "['Mar-2015', '687533']\n",
      "['Apr-2015', '-524626']\n",
      "['May-2015', '158620']\n",
      "['Jun-2015', '87795']\n",
      "['Jul-2015', '423389']\n",
      "['Aug-2015', '840723']\n",
      "['Sep-2015', '568529']\n",
      "['Oct-2015', '332067']\n",
      "['Nov-2015', '989499']\n",
      "['Dec-2015', '778237']\n",
      "['Jan-2016', '650000']\n",
      "['Feb-2016', '-1100387']\n",
      "['Mar-2016', '-174946']\n",
      "['Apr-2016', '757143']\n",
      "['May-2016', '445709']\n",
      "['Jun-2016', '712961']\n",
      "['Jul-2016', '-1163797']\n",
      "['Aug-2016', '569899']\n",
      "['Sep-2016', '768450']\n",
      "['Oct-2016', '102685']\n",
      "['Nov-2016', '795914']\n",
      "['Dec-2016', '60988']\n",
      "['Jan-2017', '138230']\n",
      "['Feb-2017', '671099']\n"
     ]
    }
   ],
   "source": [
    "#Declare a list for the months, profit/loss and for the line numbers in the dataset\n",
    "\n",
    "month = []\n",
    "profit_loss = []\n",
    "line_num = 0\n",
    "\n",
    "#Import and open the csv file as read only file\n",
    "\n",
    "with open(csvpath, 'r') as csvfile:\n",
    "    print(type(csvfile))\n",
    "    csvreader = csv.reader(csvfile, delimiter = ',')\n",
    "    print(type(csvreader))\n",
    "    \n",
    "#set the header and start counting line numbers\n",
    "    header = next(csvreader)\n",
    "    line_num += 1\n",
    "    \n",
    "    for row in csvreader:\n",
    "        print(row)\n",
    "        pl = int(row[1])\n",
    "        m = row[0]\n",
    "        profit_loss.append(pl)\n",
    "        month.append(m)"
   ]
  },
  {
   "cell_type": "code",
   "execution_count": 113,
   "id": "a24ee1e6-6673-44b0-ae0a-75be65c54ca9",
   "metadata": {},
   "outputs": [],
   "source": [
    "#Set variables for financial anaylsis\n",
    "\n",
    "max_profit = 0\n",
    "min_profit = 0\n",
    "count_pl = 0\n",
    "total_pl = 0"
   ]
  },
  {
   "cell_type": "code",
   "execution_count": 114,
   "id": "4c6fa03d-5647-4d8a-a121-56b6422f0f00",
   "metadata": {},
   "outputs": [],
   "source": [
    "for pl in profit_loss:\n",
    "    \n",
    "    total_pl += pl\n",
    "    count_pl += 1\n",
    "\n",
    "net_change = []\n",
    "sum_net_change = 0\n",
    "count_net_change = 0\n",
    "\n",
    "#Calculation of net change from month to month\n",
    "\n",
    "for i in range(len(profit_loss)-1):\n",
    "    net_change.append(profit_loss[i+1] - profit_loss[i])\n",
    "    count_net_change += 1\n"
   ]
  },
  {
   "cell_type": "code",
   "execution_count": 115,
   "id": "57d16037-7a29-4042-818f-c3af10acfd16",
   "metadata": {},
   "outputs": [
    {
     "name": "stdout",
     "output_type": "stream",
     "text": [
      "[116771, -662642, -391430, 379920, 212354, 510239, -428211, -821271, 693918, 416278, -974163, 860159, -1115009, 1033048, 95318, -308093, 99052, -521393, 605450, 231727, -65187, -702716, 177975, -1065544, 1926159, -917805, 898730, -334262, -246499, -64055, -1529236, 1497596, 304914, -635801, 398319, -183161, -37864, -253689, 403655, 94168, 306877, -83000, 210462, -2196167, 1465222, -956983, 1838447, -468003, -64602, 206242, -242155, -449079, 315198, 241099, 111540, 365942, -219310, -368665, 409837, 151210, -110244, -341938, -1212159, 683246, -70825, 335594, 417334, -272194, -236462, 657432, -211262, -128237, -1750387, 925441, 932089, -311434, 267252, -1876758, 1733696, 198551, -665765, 693229, -734926, 77242, 532869]\n"
     ]
    }
   ],
   "source": [
    "print(net_change)"
   ]
  },
  {
   "cell_type": "code",
   "execution_count": 116,
   "id": "da839d0a-952b-4005-b381-6c1227c900d9",
   "metadata": {},
   "outputs": [],
   "source": [
    "#Find min and max net change in list net_change\n",
    "\n",
    "for nc in net_change:\n",
    "    \n",
    "    sum_net_change += nc\n",
    "    \n",
    "    if min_profit == 0:\n",
    "        min_profit = nc\n",
    "    elif nc > max_profit:\n",
    "        max_profit = nc\n",
    "    elif nc < min_profit:\n",
    "        min_profit = nc\n",
    "        "
   ]
  },
  {
   "cell_type": "code",
   "execution_count": 122,
   "id": "2d9918e5-9abc-4187-b3d0-8a638493c223",
   "metadata": {},
   "outputs": [
    {
     "name": "stdout",
     "output_type": "stream",
     "text": [
      "1926159 -2196167\n",
      "25 44\n"
     ]
    }
   ],
   "source": [
    "print(max_profit, min_profit)\n",
    "\n",
    "#Find the index of max_profit and min_proft then add 1 (since the first row is blank) to get the month they occurred in.\n",
    "\n",
    "index1 = net_change.index(max_profit) + 1\n",
    "index2 = net_change.index(min_profit) + 1\n",
    "\n",
    "print(index1, index2)"
   ]
  },
  {
   "cell_type": "code",
   "execution_count": 118,
   "id": "686990fd-015c-44a1-8529-8fb2b740ffc4",
   "metadata": {},
   "outputs": [
    {
     "name": "stdout",
     "output_type": "stream",
     "text": [
      "-2315.12\n"
     ]
    }
   ],
   "source": [
    "#calculation of average net change\n",
    "\n",
    "avg_nc = round(sum_net_change / count_net_change, 2)\n",
    "print(avg_nc)"
   ]
  },
  {
   "cell_type": "code",
   "execution_count": 123,
   "id": "ab394010-5517-4a93-83ec-0636956c39b3",
   "metadata": {},
   "outputs": [
    {
     "name": "stdout",
     "output_type": "stream",
     "text": [
      "Feb-2012 Sep-2013\n"
     ]
    }
   ],
   "source": [
    "print(month[index1], month[index2])"
   ]
  },
  {
   "cell_type": "code",
   "execution_count": 124,
   "id": "42754885-b46c-46b8-9ec9-88763cbb4faa",
   "metadata": {},
   "outputs": [],
   "source": [
    "output_path = Path('homework2_answers.txt')\n",
    "\n",
    "with open(output_path, 'w') as file:\n",
    "    file.write(f\"Financial Analysis\\n-----------------\\nTotal Months: {count_pl}\\nTotal: ${total_pl}\\nAverage Change: ${avg_nc}\\nGreatest Increase in Profits: {month[index1]} ${max_profit}\\nGreatest Decrease in Profits: {month[index2]} ${min_profit}\")\n"
   ]
  }
 ],
 "metadata": {
  "kernelspec": {
   "display_name": "Python 3",
   "language": "python",
   "name": "python3"
  },
  "language_info": {
   "codemirror_mode": {
    "name": "ipython",
    "version": 3
   },
   "file_extension": ".py",
   "mimetype": "text/x-python",
   "name": "python",
   "nbconvert_exporter": "python",
   "pygments_lexer": "ipython3",
   "version": "3.8.8"
  }
 },
 "nbformat": 4,
 "nbformat_minor": 5
}
